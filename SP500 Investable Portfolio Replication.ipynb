{
 "cells": [
  {
   "cell_type": "code",
   "execution_count": 3,
   "metadata": {},
   "outputs": [],
   "source": [
    "import pandas as pd\n",
    "import quandl as qd\n",
    "import numpy as np\n",
    "import multiprocessing as mp\n",
    "%matplotlib inline\n",
    "qd.ApiConfig.api_key = \"\""
   ]
  },
  {
   "cell_type": "code",
   "execution_count": 11,
   "metadata": {},
   "outputs": [],
   "source": [
    "# qd.get(\"WIKI/AAPL\").loc['2005-1-31':,'Adj. Close'].groupby(pd.Grouper(level=0, freq='M')).last().plot()\n",
    "# qd.get(\"WIKI/AAPL\").loc['2005-1-31':,'Adj. Close'].groupby(pd.Grouper(level=0, freq='M')).last().rolling(3).mean().plot()\n",
    "# qd.get(\"WIKI/GS\").loc['2005-1-31':,'Adj. Close'].groupby(pd.Grouper(level=0, freq='M')).last().plot()\n",
    "# qd.get(\"WIKI/GS\").loc['2005-1-31':,'Adj. Close'].groupby(pd.Grouper(level=0, freq='M')).last().rolling(3).mean().plot()"
   ]
  },
  {
   "cell_type": "code",
   "execution_count": 36,
   "metadata": {},
   "outputs": [],
   "source": [
    "sp500const = pd.read_csv('sp500_constituents.csv')"
   ]
  },
  {
   "cell_type": "code",
   "execution_count": 13,
   "metadata": {},
   "outputs": [],
   "source": [
    "# def get_data_from_quandl(ticker, target):\n",
    "#     res = qd.get(\"WIKI/{}\".format(ticker))\n",
    "#     target[ticker] = res\n",
    "#     print(ticker)"
   ]
  },
  {
   "cell_type": "code",
   "execution_count": 2,
   "metadata": {},
   "outputs": [],
   "source": [
    "# res = {}\n",
    "# for i, ticker in enumerate(sp500const.Symbol):\n",
    "#     try:\n",
    "#         res[ticker] = qd.get(\"WIKI/{}\".format(ticker))\n",
    "#         print(i, ticker)\n",
    "#     except:\n",
    "#         print(i, ticker, 'NaNa')\n",
    "# pn = pd.Panel.from_dict(res)\n",
    "# pn.to_pickle('stock_price_history.pkl')"
   ]
  },
  {
   "cell_type": "code",
   "execution_count": 6,
   "metadata": {},
   "outputs": [],
   "source": [
    "pn = pd.read_pickle('stock_price_history.pkl')"
   ]
  },
  {
   "cell_type": "code",
   "execution_count": 7,
   "metadata": {},
   "outputs": [],
   "source": [
    "adjclose = pn.loc[:, :, 'Adj. Close']"
   ]
  },
  {
   "cell_type": "code",
   "execution_count": 26,
   "metadata": {},
   "outputs": [
    {
     "data": {
      "image/png": "[encoded data removed]",
      "text/plain": [
       "<Figure size 432x288 with 1 Axes>"
      ]
     },
     "metadata": {
      "needs_background": "light"
     },
     "output_type": "display_data"
    }
   ],
   "source": [
    "ax = adjclose.loc['2000-1-31':,:].mean(axis=1).pct_change().plot()"
   ]
  },
  {
   "cell_type": "code",
   "execution_count": 68,
   "metadata": {},
   "outputs": [
    {
     "data": {
      "text/plain": [
       "Date\n",
       "2000-01-31    1394.459961\n",
       "2000-02-01    1409.280029\n",
       "2000-02-02    1409.119995\n",
       "2000-02-03    1424.969971\n",
       "2000-02-04    1424.369995\n",
       "Name: Adj Close, dtype: float64"
      ]
     },
     "execution_count": 68,
     "metadata": {},
     "output_type": "execute_result"
    }
   ],
   "source": [
    "gspc = pd.read_csv('^GSPC.csv')\n",
    "gspc.Date = pd.to_datetime(gspc.Date)\n",
    "gspc = gspc.set_index('Date')\n",
    "gspc = gspc.loc['2000-1-31':,'Adj Close']\n",
    "gspc.head()"
   ]
  },
  {
   "cell_type": "code",
   "execution_count": 69,
   "metadata": {},
   "outputs": [
    {
     "data": {
      "text/html": [
       "<div>\n",
       "<style scoped>\n",
       "    .dataframe tbody tr th:only-of-type {\n",
       "        vertical-align: middle;\n",
       "    }\n",
       "\n",
       "    .dataframe tbody tr th {\n",
       "        vertical-align: top;\n",
       "    }\n",
       "\n",
       "    .dataframe thead th {\n",
       "        text-align: right;\n",
       "    }\n",
       "</style>\n",
       "<table border=\"1\" class=\"dataframe\">\n",
       "  <thead>\n",
       "    <tr style=\"text-align: right;\">\n",
       "      <th></th>\n",
       "      <th>A</th>\n",
       "      <th>AAL</th>\n",
       "      <th>AAP</th>\n",
       "      <th>AAPL</th>\n",
       "      <th>ABBV</th>\n",
       "      <th>ABC</th>\n",
       "      <th>ABMD</th>\n",
       "      <th>ABT</th>\n",
       "      <th>ACN</th>\n",
       "      <th>ADBE</th>\n",
       "      <th>...</th>\n",
       "      <th>XEL</th>\n",
       "      <th>XLNX</th>\n",
       "      <th>XOM</th>\n",
       "      <th>XRAY</th>\n",
       "      <th>XRX</th>\n",
       "      <th>XYL</th>\n",
       "      <th>YUM</th>\n",
       "      <th>ZBH</th>\n",
       "      <th>ZION</th>\n",
       "      <th>ZTS</th>\n",
       "    </tr>\n",
       "    <tr>\n",
       "      <th>Date</th>\n",
       "      <th></th>\n",
       "      <th></th>\n",
       "      <th></th>\n",
       "      <th></th>\n",
       "      <th></th>\n",
       "      <th></th>\n",
       "      <th></th>\n",
       "      <th></th>\n",
       "      <th></th>\n",
       "      <th></th>\n",
       "      <th></th>\n",
       "      <th></th>\n",
       "      <th></th>\n",
       "      <th></th>\n",
       "      <th></th>\n",
       "      <th></th>\n",
       "      <th></th>\n",
       "      <th></th>\n",
       "      <th></th>\n",
       "      <th></th>\n",
       "      <th></th>\n",
       "    </tr>\n",
       "  </thead>\n",
       "  <tbody>\n",
       "    <tr>\n",
       "      <th>2000-01-31</th>\n",
       "      <td>45.157511</td>\n",
       "      <td>NaN</td>\n",
       "      <td>NaN</td>\n",
       "      <td>3.333330</td>\n",
       "      <td>NaN</td>\n",
       "      <td>3.775973</td>\n",
       "      <td>29.250</td>\n",
       "      <td>9.416354</td>\n",
       "      <td>NaN</td>\n",
       "      <td>13.670607</td>\n",
       "      <td>...</td>\n",
       "      <td>8.581090</td>\n",
       "      <td>34.156147</td>\n",
       "      <td>26.304621</td>\n",
       "      <td>7.484133</td>\n",
       "      <td>64.118249</td>\n",
       "      <td>NaN</td>\n",
       "      <td>3.773156</td>\n",
       "      <td>NaN</td>\n",
       "      <td>46.927728</td>\n",
       "      <td>NaN</td>\n",
       "    </tr>\n",
       "    <tr>\n",
       "      <th>2000-02-01</th>\n",
       "      <td>48.439089</td>\n",
       "      <td>NaN</td>\n",
       "      <td>NaN</td>\n",
       "      <td>3.220881</td>\n",
       "      <td>NaN</td>\n",
       "      <td>3.892606</td>\n",
       "      <td>28.750</td>\n",
       "      <td>9.508898</td>\n",
       "      <td>NaN</td>\n",
       "      <td>13.874202</td>\n",
       "      <td>...</td>\n",
       "      <td>8.581090</td>\n",
       "      <td>35.791162</td>\n",
       "      <td>26.403010</td>\n",
       "      <td>7.559730</td>\n",
       "      <td>63.903293</td>\n",
       "      <td>NaN</td>\n",
       "      <td>4.052551</td>\n",
       "      <td>NaN</td>\n",
       "      <td>47.419783</td>\n",
       "      <td>NaN</td>\n",
       "    </tr>\n",
       "    <tr>\n",
       "      <th>2000-02-02</th>\n",
       "      <td>52.191412</td>\n",
       "      <td>NaN</td>\n",
       "      <td>NaN</td>\n",
       "      <td>3.174616</td>\n",
       "      <td>NaN</td>\n",
       "      <td>3.932177</td>\n",
       "      <td>28.125</td>\n",
       "      <td>9.560954</td>\n",
       "      <td>NaN</td>\n",
       "      <td>15.222393</td>\n",
       "      <td>...</td>\n",
       "      <td>8.496393</td>\n",
       "      <td>37.889059</td>\n",
       "      <td>26.599786</td>\n",
       "      <td>7.804665</td>\n",
       "      <td>64.302497</td>\n",
       "      <td>NaN</td>\n",
       "      <td>3.814011</td>\n",
       "      <td>NaN</td>\n",
       "      <td>46.530910</td>\n",
       "      <td>NaN</td>\n",
       "    </tr>\n",
       "  </tbody>\n",
       "</table>\n",
       "<p>3 rows × 495 columns</p>\n",
       "</div>"
      ],
      "text/plain": [
       "                    A  AAL  AAP      AAPL  ABBV       ABC    ABMD       ABT  \\\n",
       "Date                                                                          \n",
       "2000-01-31  45.157511  NaN  NaN  3.333330   NaN  3.775973  29.250  9.416354   \n",
       "2000-02-01  48.439089  NaN  NaN  3.220881   NaN  3.892606  28.750  9.508898   \n",
       "2000-02-02  52.191412  NaN  NaN  3.174616   NaN  3.932177  28.125  9.560954   \n",
       "\n",
       "            ACN       ADBE ...        XEL       XLNX        XOM      XRAY  \\\n",
       "Date                       ...                                              \n",
       "2000-01-31  NaN  13.670607 ...   8.581090  34.156147  26.304621  7.484133   \n",
       "2000-02-01  NaN  13.874202 ...   8.581090  35.791162  26.403010  7.559730   \n",
       "2000-02-02  NaN  15.222393 ...   8.496393  37.889059  26.599786  7.804665   \n",
       "\n",
       "                  XRX  XYL       YUM  ZBH       ZION  ZTS  \n",
       "Date                                                       \n",
       "2000-01-31  64.118249  NaN  3.773156  NaN  46.927728  NaN  \n",
       "2000-02-01  63.903293  NaN  4.052551  NaN  47.419783  NaN  \n",
       "2000-02-02  64.302497  NaN  3.814011  NaN  46.530910  NaN  \n",
       "\n",
       "[3 rows x 495 columns]"
      ]
     },
     "execution_count": 69,
     "metadata": {},
     "output_type": "execute_result"
    }
   ],
   "source": [
    "adjclose.loc['2000-1-31':,:].head(3)"
   ]
  },
  {
   "cell_type": "code",
   "execution_count": 56,
   "metadata": {},
   "outputs": [
    {
     "data": {
      "text/plain": [
       "Symbol\n",
       "MSFT     3.748212\n",
       "AAPL     3.472323\n",
       "AMZN     2.941902\n",
       "FB       1.764735\n",
       "BRK.B    1.681888\n",
       "Name: Weight, dtype: float64"
      ]
     },
     "execution_count": 56,
     "metadata": {},
     "output_type": "execute_result"
    }
   ],
   "source": [
    "weights = sp500const[['Symbol', 'Weight']].set_index('Symbol')['Weight']\n",
    "weights.head()"
   ]
  },
  {
   "cell_type": "code",
   "execution_count": 74,
   "metadata": {},
   "outputs": [
    {
     "data": {
      "text/plain": [
       "<matplotlib.axes._subplots.AxesSubplot at 0x12aaa3630>"
      ]
     },
     "execution_count": 74,
     "metadata": {},
     "output_type": "execute_result"
    },
    {
     "data": {
      "image/png": "[encoded data removed]",
      "text/plain": [
       "<Figure size 432x288 with 1 Axes>"
      ]
     },
     "metadata": {
      "needs_background": "light"
     },
     "output_type": "display_data"
    }
   ],
   "source": [
    "adjclose.loc['2000-1-31':,:].multiply(weights).sum(axis=1).plot(label='Replicated', legend=True)\n",
    "gspc.plot(label='Actual', legend=True)"
   ]
  },
  {
   "cell_type": "code",
   "execution_count": null,
   "metadata": {},
   "outputs": [],
   "source": []
  },
  {
   "cell_type": "code",
   "execution_count": null,
   "metadata": {},
   "outputs": [],
   "source": []
  }
 ],
 "metadata": {
  "kernelspec": {
   "display_name": "Python 3",
   "language": "python",
   "name": "python3"
  },
  "language_info": {
   "codemirror_mode": {
    "name": "ipython",
    "version": 3
   },
   "file_extension": ".py",
   "mimetype": "text/x-python",
   "name": "python",
   "nbconvert_exporter": "python",
   "pygments_lexer": "ipython3",
   "version": "3.7.1"
  }
 },
 "nbformat": 4,
 "nbformat_minor": 2
}
